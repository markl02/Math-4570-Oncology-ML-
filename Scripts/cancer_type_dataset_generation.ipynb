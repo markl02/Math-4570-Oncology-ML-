{
 "cells": [
  {
   "cell_type": "code",
   "execution_count": 2,
   "id": "e768a0ca",
   "metadata": {},
   "outputs": [],
   "source": [
    "import pandas as pd\n",
    "import numpy as np\n",
    "import re\n",
    "import sklearn.decomposition"
   ]
  },
  {
   "cell_type": "code",
   "execution_count": 3,
   "id": "1086c5f6",
   "metadata": {},
   "outputs": [],
   "source": [
    "folder = 'training_sets_genes'\n",
    "cancer_types = ['bladder', 'breast', 'colon', 'kidney', 'leukemia', 'liver', 'lung', 'ovarian', 'pancreatic']\n",
    "\n",
    "df1 = pd.read_csv('CRISPR_gene_dependency.csv', index_col='DepMap_ID').T\n",
    "df2 = pd.read_csv('CRISPR_gene_effect.csv', index_col='DepMap_ID').T\n",
    "df3 = pd.read_csv('CCLE_expression.csv', index_col=0).T\n",
    "info = pd.read_csv('sample_info_new.csv', index_col='DepMap_ID').T"
   ]
  },
  {
   "cell_type": "code",
   "execution_count": 4,
   "id": "9323cf6a",
   "metadata": {},
   "outputs": [],
   "source": [
    "def regex_func(x):\n",
    "    regex = \"(\\S+) \\([0-9]+\\)\"\n",
    "    pattern = re.findall(regex, x)\n",
    "    if len(pattern) > 0:\n",
    "        return pattern[0]\n",
    "    else:\n",
    "        return x\n",
    "\n",
    "def convert_indexes(df):\n",
    "    df = df.dropna(axis='index')\n",
    "    df.index = df.index.to_series().apply(regex_func)\n",
    "    \n",
    "    return df\n",
    "\n",
    "def get_PCA_data(df, labels, name):\n",
    "    df = convert_indexes(df)\n",
    "    df = df.loc[df.index.isin(labels.index)]\n",
    "    pca = sklearn.decomposition.PCA(n_components=8, whiten=True)\n",
    "    X = pca.fit_transform(df)\n",
    "    df = pd.DataFrame(X, index=df.index)\n",
    "    rename = lambda x: name + '_' + str(x)\n",
    "    df.rename(rename, axis=1, inplace=True)\n",
    "    return df\n",
    "\n",
    "def get_labels():\n",
    "    labels = pd.Series(np.zeros(0))\n",
    "    for i in range(len(cancer_types)):\n",
    "        cancer_type = cancer_types[i]\n",
    "        df_new = pd.read_csv('{}/{}_training_genes_set.csv'.format(folder, cancer_type), index_col=0)\n",
    "        indexes = df_new.index[df_new.iloc[:, 0].str.match('positive')]\n",
    "        new_labels = pd.Series(data=(i * np.ones(len(indexes))), index=indexes)\n",
    "        labels = pd.concat([labels, new_labels])\n",
    "        \n",
    "    return labels\n",
    "    \n",
    "labels = get_labels() \n",
    "df1 = get_PCA_data(df1, labels, 'dep')\n",
    "df2 = get_PCA_data(df2, labels, 'eff')\n",
    "df3 = get_PCA_data(df3, labels, 'exp')"
   ]
  },
  {
   "cell_type": "code",
   "execution_count": 5,
   "id": "a0e5c2a1",
   "metadata": {},
   "outputs": [],
   "source": [
    "df = labels.rename('label')\n",
    "for data in [df1, df2, df3]:\n",
    "    df = pd.merge(df, data, left_index=True, right_index=True)\n",
    "    \n",
    "#df.to_csv('cancer_type_data.csv', index=True)"
   ]
  },
  {
   "cell_type": "code",
   "execution_count": 6,
   "id": "c1170c2c",
   "metadata": {},
   "outputs": [
    {
     "name": "stdout",
     "output_type": "stream",
     "text": [
      "275\n"
     ]
    }
   ],
   "source": [
    "indexes = df.index.value_counts() == 1\n",
    "indexes = indexes.index[indexes]\n",
    "df = df.loc[df.index.isin(indexes)]\n",
    "print(len(df))"
   ]
  },
  {
   "cell_type": "code",
   "execution_count": null,
   "id": "04e26d11",
   "metadata": {},
   "outputs": [],
   "source": []
  }
 ],
 "metadata": {
  "kernelspec": {
   "display_name": "Python 3 (ipykernel)",
   "language": "python",
   "name": "python3"
  },
  "language_info": {
   "codemirror_mode": {
    "name": "ipython",
    "version": 3
   },
   "file_extension": ".py",
   "mimetype": "text/x-python",
   "name": "python",
   "nbconvert_exporter": "python",
   "pygments_lexer": "ipython3",
   "version": "3.8.13"
  }
 },
 "nbformat": 4,
 "nbformat_minor": 5
}
