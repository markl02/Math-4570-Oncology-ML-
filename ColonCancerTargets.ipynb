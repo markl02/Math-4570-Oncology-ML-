{
 "cells": [
  {
   "cell_type": "code",
   "execution_count": 1,
   "id": "49557e45-ec62-4498-b00c-ed11b32a3f46",
   "metadata": {},
   "outputs": [],
   "source": [
    "import numpy as np\n",
    "import pandas as pd\n",
    "import matplotlib.pyplot as plt\n",
    "import seaborn as sns\n",
    "import re\n",
    "import sklearn.decomposition\n",
    "from sklearn.model_selection import StratifiedKFold, train_test_split\n",
    "from sklearn.linear_model import LogisticRegression\n",
    "from sklearn.metrics import auc, accuracy_score, confusion_matrix, roc_curve, precision_score, recall_score, f1_score\n",
    "import tensorflow as tf\n",
    "from tensorflow import keras\n",
    "import os"
   ]
  },
  {
   "cell_type": "code",
   "execution_count": 2,
   "id": "0ec90897-3be3-4e08-aa3a-dccf97761033",
   "metadata": {},
   "outputs": [
    {
     "data": {
      "text/html": [
       "<div>\n",
       "<style scoped>\n",
       "    .dataframe tbody tr th:only-of-type {\n",
       "        vertical-align: middle;\n",
       "    }\n",
       "\n",
       "    .dataframe tbody tr th {\n",
       "        vertical-align: top;\n",
       "    }\n",
       "\n",
       "    .dataframe thead th {\n",
       "        text-align: right;\n",
       "    }\n",
       "</style>\n",
       "<table border=\"1\" class=\"dataframe\">\n",
       "  <thead>\n",
       "    <tr style=\"text-align: right;\">\n",
       "      <th></th>\n",
       "      <th>ACH-000001_x</th>\n",
       "      <th>ACH-000004_x</th>\n",
       "      <th>ACH-000005_x</th>\n",
       "      <th>ACH-000007_x</th>\n",
       "      <th>ACH-000009_x</th>\n",
       "      <th>ACH-000011_x</th>\n",
       "      <th>ACH-000012_x</th>\n",
       "      <th>ACH-000013_x</th>\n",
       "      <th>ACH-000014_x</th>\n",
       "      <th>ACH-000015_x</th>\n",
       "      <th>...</th>\n",
       "      <th>ACH-001578</th>\n",
       "      <th>ACH-000036</th>\n",
       "      <th>ACH-000973</th>\n",
       "      <th>ACH-001128</th>\n",
       "      <th>ACH-000750</th>\n",
       "      <th>ACH-000285</th>\n",
       "      <th>ACH-002669</th>\n",
       "      <th>ACH-001858</th>\n",
       "      <th>ACH-001997</th>\n",
       "      <th>ACH-000052</th>\n",
       "    </tr>\n",
       "  </thead>\n",
       "  <tbody>\n",
       "    <tr>\n",
       "      <th>ABCG5</th>\n",
       "      <td>0.053855</td>\n",
       "      <td>0.058180</td>\n",
       "      <td>0.012528</td>\n",
       "      <td>0.021711</td>\n",
       "      <td>0.033096</td>\n",
       "      <td>0.056243</td>\n",
       "      <td>0.008624</td>\n",
       "      <td>0.049693</td>\n",
       "      <td>0.030266</td>\n",
       "      <td>0.024696</td>\n",
       "      <td>...</td>\n",
       "      <td>0.000000</td>\n",
       "      <td>0.014355</td>\n",
       "      <td>0.014355</td>\n",
       "      <td>0.000000</td>\n",
       "      <td>0.000000</td>\n",
       "      <td>0.070389</td>\n",
       "      <td>0.042644</td>\n",
       "      <td>0.000000</td>\n",
       "      <td>0.014355</td>\n",
       "      <td>0.014355</td>\n",
       "    </tr>\n",
       "    <tr>\n",
       "      <th>ABCG5</th>\n",
       "      <td>0.053855</td>\n",
       "      <td>0.058180</td>\n",
       "      <td>0.012528</td>\n",
       "      <td>0.021711</td>\n",
       "      <td>0.033096</td>\n",
       "      <td>0.056243</td>\n",
       "      <td>0.008624</td>\n",
       "      <td>0.049693</td>\n",
       "      <td>0.030266</td>\n",
       "      <td>0.024696</td>\n",
       "      <td>...</td>\n",
       "      <td>0.000000</td>\n",
       "      <td>0.014355</td>\n",
       "      <td>0.014355</td>\n",
       "      <td>0.000000</td>\n",
       "      <td>0.000000</td>\n",
       "      <td>0.070389</td>\n",
       "      <td>0.042644</td>\n",
       "      <td>0.000000</td>\n",
       "      <td>0.014355</td>\n",
       "      <td>0.014355</td>\n",
       "    </tr>\n",
       "    <tr>\n",
       "      <th>ABHD16B</th>\n",
       "      <td>0.014877</td>\n",
       "      <td>0.026521</td>\n",
       "      <td>0.057486</td>\n",
       "      <td>0.021454</td>\n",
       "      <td>0.064959</td>\n",
       "      <td>0.026275</td>\n",
       "      <td>0.016087</td>\n",
       "      <td>0.038528</td>\n",
       "      <td>0.105143</td>\n",
       "      <td>0.023111</td>\n",
       "      <td>...</td>\n",
       "      <td>0.000000</td>\n",
       "      <td>0.163499</td>\n",
       "      <td>1.536053</td>\n",
       "      <td>0.000000</td>\n",
       "      <td>0.918386</td>\n",
       "      <td>0.000000</td>\n",
       "      <td>0.000000</td>\n",
       "      <td>0.000000</td>\n",
       "      <td>0.000000</td>\n",
       "      <td>0.495695</td>\n",
       "    </tr>\n",
       "    <tr>\n",
       "      <th>ABI3</th>\n",
       "      <td>0.006700</td>\n",
       "      <td>0.001935</td>\n",
       "      <td>0.039448</td>\n",
       "      <td>0.003994</td>\n",
       "      <td>0.104724</td>\n",
       "      <td>0.003303</td>\n",
       "      <td>0.041314</td>\n",
       "      <td>0.015038</td>\n",
       "      <td>0.037875</td>\n",
       "      <td>0.016541</td>\n",
       "      <td>...</td>\n",
       "      <td>0.214125</td>\n",
       "      <td>0.000000</td>\n",
       "      <td>0.014355</td>\n",
       "      <td>0.201634</td>\n",
       "      <td>0.485427</td>\n",
       "      <td>1.454176</td>\n",
       "      <td>0.000000</td>\n",
       "      <td>0.650765</td>\n",
       "      <td>0.014355</td>\n",
       "      <td>4.000000</td>\n",
       "    </tr>\n",
       "    <tr>\n",
       "      <th>ABI3</th>\n",
       "      <td>0.006700</td>\n",
       "      <td>0.001935</td>\n",
       "      <td>0.039448</td>\n",
       "      <td>0.003994</td>\n",
       "      <td>0.104724</td>\n",
       "      <td>0.003303</td>\n",
       "      <td>0.041314</td>\n",
       "      <td>0.015038</td>\n",
       "      <td>0.037875</td>\n",
       "      <td>0.016541</td>\n",
       "      <td>...</td>\n",
       "      <td>0.214125</td>\n",
       "      <td>0.000000</td>\n",
       "      <td>0.014355</td>\n",
       "      <td>0.201634</td>\n",
       "      <td>0.485427</td>\n",
       "      <td>1.454176</td>\n",
       "      <td>0.000000</td>\n",
       "      <td>0.650765</td>\n",
       "      <td>0.014355</td>\n",
       "      <td>4.000000</td>\n",
       "    </tr>\n",
       "    <tr>\n",
       "      <th>...</th>\n",
       "      <td>...</td>\n",
       "      <td>...</td>\n",
       "      <td>...</td>\n",
       "      <td>...</td>\n",
       "      <td>...</td>\n",
       "      <td>...</td>\n",
       "      <td>...</td>\n",
       "      <td>...</td>\n",
       "      <td>...</td>\n",
       "      <td>...</td>\n",
       "      <td>...</td>\n",
       "      <td>...</td>\n",
       "      <td>...</td>\n",
       "      <td>...</td>\n",
       "      <td>...</td>\n",
       "      <td>...</td>\n",
       "      <td>...</td>\n",
       "      <td>...</td>\n",
       "      <td>...</td>\n",
       "      <td>...</td>\n",
       "      <td>...</td>\n",
       "    </tr>\n",
       "    <tr>\n",
       "      <th>ZNF92</th>\n",
       "      <td>0.018109</td>\n",
       "      <td>0.392637</td>\n",
       "      <td>0.050899</td>\n",
       "      <td>0.153188</td>\n",
       "      <td>0.062893</td>\n",
       "      <td>0.210178</td>\n",
       "      <td>0.113357</td>\n",
       "      <td>0.029641</td>\n",
       "      <td>0.133298</td>\n",
       "      <td>0.040396</td>\n",
       "      <td>...</td>\n",
       "      <td>5.416840</td>\n",
       "      <td>2.950468</td>\n",
       "      <td>2.944858</td>\n",
       "      <td>3.152183</td>\n",
       "      <td>2.080658</td>\n",
       "      <td>5.514122</td>\n",
       "      <td>4.116864</td>\n",
       "      <td>2.121015</td>\n",
       "      <td>2.809414</td>\n",
       "      <td>3.223423</td>\n",
       "    </tr>\n",
       "    <tr>\n",
       "      <th>ZNRF2</th>\n",
       "      <td>0.016917</td>\n",
       "      <td>0.006564</td>\n",
       "      <td>0.040396</td>\n",
       "      <td>0.030776</td>\n",
       "      <td>0.002572</td>\n",
       "      <td>0.042265</td>\n",
       "      <td>0.022099</td>\n",
       "      <td>0.037135</td>\n",
       "      <td>0.035908</td>\n",
       "      <td>0.086099</td>\n",
       "      <td>...</td>\n",
       "      <td>2.344828</td>\n",
       "      <td>2.084064</td>\n",
       "      <td>2.596935</td>\n",
       "      <td>0.310340</td>\n",
       "      <td>1.815575</td>\n",
       "      <td>4.280214</td>\n",
       "      <td>2.650765</td>\n",
       "      <td>2.601697</td>\n",
       "      <td>3.145677</td>\n",
       "      <td>2.967169</td>\n",
       "    </tr>\n",
       "    <tr>\n",
       "      <th>ZNRF3</th>\n",
       "      <td>0.033445</td>\n",
       "      <td>0.041844</td>\n",
       "      <td>0.009077</td>\n",
       "      <td>0.003706</td>\n",
       "      <td>0.032957</td>\n",
       "      <td>0.003473</td>\n",
       "      <td>0.033131</td>\n",
       "      <td>0.089468</td>\n",
       "      <td>0.072750</td>\n",
       "      <td>0.007346</td>\n",
       "      <td>...</td>\n",
       "      <td>1.752749</td>\n",
       "      <td>1.298658</td>\n",
       "      <td>3.385431</td>\n",
       "      <td>2.443607</td>\n",
       "      <td>1.978196</td>\n",
       "      <td>2.046142</td>\n",
       "      <td>1.104337</td>\n",
       "      <td>1.220330</td>\n",
       "      <td>1.941106</td>\n",
       "      <td>2.702658</td>\n",
       "    </tr>\n",
       "    <tr>\n",
       "      <th>ZZZ3</th>\n",
       "      <td>0.324623</td>\n",
       "      <td>0.042530</td>\n",
       "      <td>0.050412</td>\n",
       "      <td>0.274833</td>\n",
       "      <td>0.269194</td>\n",
       "      <td>0.125139</td>\n",
       "      <td>0.306162</td>\n",
       "      <td>0.580409</td>\n",
       "      <td>0.077300</td>\n",
       "      <td>0.100964</td>\n",
       "      <td>...</td>\n",
       "      <td>4.926948</td>\n",
       "      <td>4.489928</td>\n",
       "      <td>4.135863</td>\n",
       "      <td>3.804260</td>\n",
       "      <td>4.325530</td>\n",
       "      <td>4.258519</td>\n",
       "      <td>3.765535</td>\n",
       "      <td>4.780310</td>\n",
       "      <td>4.276497</td>\n",
       "      <td>4.519793</td>\n",
       "    </tr>\n",
       "    <tr>\n",
       "      <th>ZZZ3</th>\n",
       "      <td>0.324623</td>\n",
       "      <td>0.042530</td>\n",
       "      <td>0.050412</td>\n",
       "      <td>0.274833</td>\n",
       "      <td>0.269194</td>\n",
       "      <td>0.125139</td>\n",
       "      <td>0.306162</td>\n",
       "      <td>0.580409</td>\n",
       "      <td>0.077300</td>\n",
       "      <td>0.100964</td>\n",
       "      <td>...</td>\n",
       "      <td>4.926948</td>\n",
       "      <td>4.489928</td>\n",
       "      <td>4.135863</td>\n",
       "      <td>3.804260</td>\n",
       "      <td>4.325530</td>\n",
       "      <td>4.258519</td>\n",
       "      <td>3.765535</td>\n",
       "      <td>4.780310</td>\n",
       "      <td>4.276497</td>\n",
       "      <td>4.519793</td>\n",
       "    </tr>\n",
       "  </tbody>\n",
       "</table>\n",
       "<p>1336 rows × 3578 columns</p>\n",
       "</div>"
      ],
      "text/plain": [
       "         ACH-000001_x  ACH-000004_x  ACH-000005_x  ACH-000007_x  ACH-000009_x  \\\n",
       "ABCG5        0.053855      0.058180      0.012528      0.021711      0.033096   \n",
       "ABCG5        0.053855      0.058180      0.012528      0.021711      0.033096   \n",
       "ABHD16B      0.014877      0.026521      0.057486      0.021454      0.064959   \n",
       "ABI3         0.006700      0.001935      0.039448      0.003994      0.104724   \n",
       "ABI3         0.006700      0.001935      0.039448      0.003994      0.104724   \n",
       "...               ...           ...           ...           ...           ...   \n",
       "ZNF92        0.018109      0.392637      0.050899      0.153188      0.062893   \n",
       "ZNRF2        0.016917      0.006564      0.040396      0.030776      0.002572   \n",
       "ZNRF3        0.033445      0.041844      0.009077      0.003706      0.032957   \n",
       "ZZZ3         0.324623      0.042530      0.050412      0.274833      0.269194   \n",
       "ZZZ3         0.324623      0.042530      0.050412      0.274833      0.269194   \n",
       "\n",
       "         ACH-000011_x  ACH-000012_x  ACH-000013_x  ACH-000014_x  ACH-000015_x  \\\n",
       "ABCG5        0.056243      0.008624      0.049693      0.030266      0.024696   \n",
       "ABCG5        0.056243      0.008624      0.049693      0.030266      0.024696   \n",
       "ABHD16B      0.026275      0.016087      0.038528      0.105143      0.023111   \n",
       "ABI3         0.003303      0.041314      0.015038      0.037875      0.016541   \n",
       "ABI3         0.003303      0.041314      0.015038      0.037875      0.016541   \n",
       "...               ...           ...           ...           ...           ...   \n",
       "ZNF92        0.210178      0.113357      0.029641      0.133298      0.040396   \n",
       "ZNRF2        0.042265      0.022099      0.037135      0.035908      0.086099   \n",
       "ZNRF3        0.003473      0.033131      0.089468      0.072750      0.007346   \n",
       "ZZZ3         0.125139      0.306162      0.580409      0.077300      0.100964   \n",
       "ZZZ3         0.125139      0.306162      0.580409      0.077300      0.100964   \n",
       "\n",
       "         ...  ACH-001578  ACH-000036  ACH-000973  ACH-001128  ACH-000750  \\\n",
       "ABCG5    ...    0.000000    0.014355    0.014355    0.000000    0.000000   \n",
       "ABCG5    ...    0.000000    0.014355    0.014355    0.000000    0.000000   \n",
       "ABHD16B  ...    0.000000    0.163499    1.536053    0.000000    0.918386   \n",
       "ABI3     ...    0.214125    0.000000    0.014355    0.201634    0.485427   \n",
       "ABI3     ...    0.214125    0.000000    0.014355    0.201634    0.485427   \n",
       "...      ...         ...         ...         ...         ...         ...   \n",
       "ZNF92    ...    5.416840    2.950468    2.944858    3.152183    2.080658   \n",
       "ZNRF2    ...    2.344828    2.084064    2.596935    0.310340    1.815575   \n",
       "ZNRF3    ...    1.752749    1.298658    3.385431    2.443607    1.978196   \n",
       "ZZZ3     ...    4.926948    4.489928    4.135863    3.804260    4.325530   \n",
       "ZZZ3     ...    4.926948    4.489928    4.135863    3.804260    4.325530   \n",
       "\n",
       "         ACH-000285  ACH-002669  ACH-001858  ACH-001997  ACH-000052  \n",
       "ABCG5      0.070389    0.042644    0.000000    0.014355    0.014355  \n",
       "ABCG5      0.070389    0.042644    0.000000    0.014355    0.014355  \n",
       "ABHD16B    0.000000    0.000000    0.000000    0.000000    0.495695  \n",
       "ABI3       1.454176    0.000000    0.650765    0.014355    4.000000  \n",
       "ABI3       1.454176    0.000000    0.650765    0.014355    4.000000  \n",
       "...             ...         ...         ...         ...         ...  \n",
       "ZNF92      5.514122    4.116864    2.121015    2.809414    3.223423  \n",
       "ZNRF2      4.280214    2.650765    2.601697    3.145677    2.967169  \n",
       "ZNRF3      2.046142    1.104337    1.220330    1.941106    2.702658  \n",
       "ZZZ3       4.258519    3.765535    4.780310    4.276497    4.519793  \n",
       "ZZZ3       4.258519    3.765535    4.780310    4.276497    4.519793  \n",
       "\n",
       "[1336 rows x 3578 columns]"
      ]
     },
     "metadata": {},
     "output_type": "display_data"
    },
    {
     "data": {
      "text/plain": [
       "ABCG5      False\n",
       "ABCG5      False\n",
       "ABHD16B    False\n",
       "ABI3       False\n",
       "ABI3       False\n",
       "           ...  \n",
       "ZNF92      False\n",
       "ZNRF2      False\n",
       "ZNRF3       True\n",
       "ZZZ3       False\n",
       "ZZZ3       False\n",
       "Name: label, Length: 1336, dtype: bool"
      ]
     },
     "metadata": {},
     "output_type": "display_data"
    }
   ],
   "source": [
    "MergedData0 = pd.read_csv('Data.csv', index_col=0);\n",
    "MergedData1 = MergedData0.iloc[:, :-1]\n",
    "y = pd.read_csv(\"colon_training_genes_set.csv\", index_col='gene')\n",
    "y.rename_axis(\"DepMap_ID\")\n",
    "y = y == 'positive'\n",
    "data = MergedData1.merge(y, how='inner', left_index=True, right_index=True)\n",
    "Data = data.iloc[:, :-1]\n",
    "y = data.iloc[:, -1]\n",
    "display(Data)\n",
    "display(y)"
   ]
  },
  {
   "cell_type": "code",
   "execution_count": 3,
   "id": "ff443457-1b03-4ed8-bf89-e9ece2f7d64b",
   "metadata": {},
   "outputs": [],
   "source": [
    "data_gene_dep = Data.iloc[:, 0:1086]\n",
    "data_gene_dep;\n",
    "data_gene_eff = Data.iloc[:, 1087:2172]\n",
    "data_gene_eff;\n",
    "data_express = Data.iloc[:, 2173:3578]\n",
    "data_express;"
   ]
  },
  {
   "cell_type": "code",
   "execution_count": 4,
   "id": "afe9803d-368e-4013-9c6e-a5a2cde29986",
   "metadata": {},
   "outputs": [
    {
     "name": "stdout",
     "output_type": "stream",
     "text": [
      "[0.8201485  0.01038302 0.0075951  0.00671409 0.00511578 0.00451562\n",
      " 0.00429692 0.00346973]\n"
     ]
    }
   ],
   "source": [
    "pca = sklearn.decomposition.PCA(n_components=8, svd_solver='randomized')\n",
    "X1 = pca.fit_transform(data_gene_dep)\n",
    "print(pca.explained_variance_ratio_)"
   ]
  },
  {
   "cell_type": "code",
   "execution_count": 5,
   "id": "0deb2839-5689-4715-91cd-5338f76a335f",
   "metadata": {},
   "outputs": [
    {
     "name": "stdout",
     "output_type": "stream",
     "text": [
      "[0.86376817 0.00738237 0.00521235 0.00492999 0.00406195 0.0031907\n",
      " 0.00276672 0.00241891]\n"
     ]
    }
   ],
   "source": [
    "pca = sklearn.decomposition.PCA(n_components=8, svd_solver='randomized')\n",
    "X2 = pca.fit_transform(data_gene_eff)\n",
    "print(pca.explained_variance_ratio_)"
   ]
  },
  {
   "cell_type": "code",
   "execution_count": 6,
   "id": "688c257c-3625-4c6d-bd3c-afb64aa71b63",
   "metadata": {},
   "outputs": [
    {
     "name": "stdout",
     "output_type": "stream",
     "text": [
      "[0.81799389 0.02442051 0.02047289 0.01202733 0.00550121 0.00443658\n",
      " 0.00402395 0.00366094]\n"
     ]
    }
   ],
   "source": [
    "pca = sklearn.decomposition.PCA(n_components=8, svd_solver='randomized')\n",
    "X3 = pca.fit_transform(data_express)\n",
    "print(pca.explained_variance_ratio_)"
   ]
  },
  {
   "cell_type": "code",
   "execution_count": 7,
   "id": "4e61c055-bc20-49d1-84b7-96fac753f838",
   "metadata": {},
   "outputs": [
    {
     "name": "stdout",
     "output_type": "stream",
     "text": [
      "(1336, 24)\n"
     ]
    }
   ],
   "source": [
    "X4 = np.concatenate((X1, X2, X3), axis=1)\n",
    "print(X4.shape)"
   ]
  },
  {
   "cell_type": "code",
   "execution_count": 8,
   "id": "b1002ae4-e715-4cad-8b3a-70462b357bf9",
   "metadata": {},
   "outputs": [
    {
     "name": "stdout",
     "output_type": "stream",
     "text": [
      "(443, 24)\n",
      "(443,)\n",
      "220\n"
     ]
    },
    {
     "data": {
      "image/png": "[encoded data removed]",
      "text/plain": [
       "<Figure size 640x480 with 1 Axes>"
      ]
     },
     "metadata": {},
     "output_type": "display_data"
    }
   ],
   "source": [
    "select = np.maximum(y, np.random.rand(len(y)) < sum(y)/(len(y) - sum(y)))\n",
    "X4 = X4[select]\n",
    "y = y[select]\n",
    "print(X4.shape)\n",
    "print(y.shape)\n",
    "print(sum(y))\n",
    "sns.scatterplot(x= X4[:,0], y=X4[:,1], hue=y)\n",
    "plt.show()"
   ]
  },
  {
   "cell_type": "code",
   "execution_count": 9,
   "id": "c838e8df-005f-42cd-a1df-89e53156714d",
   "metadata": {},
   "outputs": [],
   "source": [
    "# Get the training and test data\n",
    "X_train, X_test, y_train, y_test = train_test_split(X4, y, test_size=0.3)\n",
    "\n",
    "# Fit the model\n",
    "model = LogisticRegression(max_iter=10000).fit(X_train, y_train)\n",
    "\n",
    "y_pred = model.predict(X_test)\n",
    "y_pred_rt = model.predict_proba(X_test)[:, 1]\n",
    "\n",
    "accuracy = str(accuracy_score(y_test, y_pred))\n",
    "fpr, tpr, thresholds = roc_curve(y_test, y_pred_rt)\n",
    "auc_value = str(auc(fpr, tpr))\n",
    "precision = str(precision_score(y_test, y_pred))\n",
    "recall = str(recall_score(y_test, y_pred))\n",
    "f1score = str(f1_score(y_test, y_pred, average=\"weighted\"))"
   ]
  },
  {
   "cell_type": "code",
   "execution_count": 10,
   "id": "8bacbe7d-9154-4895-a653-4eb4e7a82a2a",
   "metadata": {},
   "outputs": [
    {
     "name": "stdout",
     "output_type": "stream",
     "text": [
      "Accuracy:0.6691729323308271\n",
      "Precision:0.7058823529411765\n",
      "Recall:0.5538461538461539\n"
     ]
    },
    {
     "data": {
      "image/png": "[encoded data removed]",
      "text/plain": [
       "<Figure size 640x480 with 2 Axes>"
      ]
     },
     "metadata": {},
     "output_type": "display_data"
    },
    {
     "name": "stdout",
     "output_type": "stream",
     "text": [
      "[[53 15]\n",
      " [29 36]]\n"
     ]
    }
   ],
   "source": [
    "print(\"Accuracy:\" + accuracy)\n",
    "print(\"Precision:\" + precision)\n",
    "print(\"Recall:\" + recall)\n",
    "\n",
    "conf_mx = confusion_matrix(y_test, y_pred)\n",
    "sns.heatmap(conf_mx)\n",
    "plt.show()\n",
    "\n",
    "print(conf_mx)"
   ]
  },
  {
   "cell_type": "code",
   "execution_count": 11,
   "id": "fa989574-94b9-4828-aacb-5b25c72de0b5",
   "metadata": {},
   "outputs": [],
   "source": [
    "keras.backend.clear_session()\n",
    "np.random.seed(50)\n",
    "tf.random.set_seed(50)"
   ]
  },
  {
   "cell_type": "code",
   "execution_count": 12,
   "id": "61961535-55d6-47b8-914f-9dd23ceb29c7",
   "metadata": {},
   "outputs": [],
   "source": [
    "K = keras.backend\n",
    "\n",
    "class ExponentialLearningRate(keras.callbacks.Callback):\n",
    "    def __init__(self, factor):\n",
    "        self.factor = factor\n",
    "        self.rates = []\n",
    "        self.losses = []\n",
    "    def on_batch_end(self, batch, logs):\n",
    "        self.rates.append(K.get_value(self.model.optimizer.lr))\n",
    "        self.losses.append(logs[\"loss\"])\n",
    "        K.set_value(self.model.optimizer.lr, self.model.optimizer.lr * self.factor)"
   ]
  },
  {
   "cell_type": "code",
   "execution_count": 13,
   "id": "e134c6f9-fcc0-4da6-be02-2d852aac185c",
   "metadata": {},
   "outputs": [],
   "source": [
    "model = keras.models.Sequential([\n",
    "    keras.layers.Flatten(input_shape=[24]),\n",
    "    keras.layers.Dense(150, activation=\"relu\"),\n",
    "    keras.layers.Dense(75, activation=\"relu\"),\n",
    "    keras.layers.Dense(8, activation=\"softmax\")\n",
    "])"
   ]
  },
  {
   "cell_type": "code",
   "execution_count": 14,
   "id": "498819d6-3ed7-4401-a79d-db8e9323942e",
   "metadata": {},
   "outputs": [
    {
     "name": "stdout",
     "output_type": "stream",
     "text": [
      "Model: \"sequential\"\n",
      "_________________________________________________________________\n",
      " Layer (type)                Output Shape              Param #   \n",
      "=================================================================\n",
      " flatten (Flatten)           (None, 24)                0         \n",
      "                                                                 \n",
      " dense (Dense)               (None, 150)               3750      \n",
      "                                                                 \n",
      " dense_1 (Dense)             (None, 75)                11325     \n",
      "                                                                 \n",
      " dense_2 (Dense)             (None, 8)                 608       \n",
      "                                                                 \n",
      "=================================================================\n",
      "Total params: 15,683\n",
      "Trainable params: 15,683\n",
      "Non-trainable params: 0\n",
      "_________________________________________________________________\n"
     ]
    }
   ],
   "source": [
    "model.summary()"
   ]
  },
  {
   "cell_type": "code",
   "execution_count": 15,
   "id": "dfd69cf4-44d7-4aac-9436-a81d5632c130",
   "metadata": {},
   "outputs": [],
   "source": [
    "model.compile(loss=\"sparse_categorical_crossentropy\",\n",
    "              optimizer=keras.optimizers.SGD(learning_rate=1e-3),\n",
    "              metrics=[\"accuracy\"])\n",
    "expon_lr = ExponentialLearningRate(factor=1.005)"
   ]
  },
  {
   "cell_type": "code",
   "execution_count": 16,
   "id": "e8cab419-e318-4084-a944-501ebccc9db3",
   "metadata": {},
   "outputs": [
    {
     "name": "stdout",
     "output_type": "stream",
     "text": [
      "Epoch 1/5\n",
      "10/10 [==============================] - 3s 98ms/step - loss: 4.3502 - accuracy: 0.3226 - val_loss: 3.2969 - val_accuracy: 0.4436\n",
      "Epoch 2/5\n",
      "10/10 [==============================] - 0s 23ms/step - loss: 1.5975 - accuracy: 0.4452 - val_loss: 1.9981 - val_accuracy: 0.4586\n",
      "Epoch 3/5\n",
      "10/10 [==============================] - 0s 50ms/step - loss: 1.2007 - accuracy: 0.5065 - val_loss: 1.8840 - val_accuracy: 0.4436\n",
      "Epoch 4/5\n",
      "10/10 [==============================] - 0s 36ms/step - loss: 1.3897 - accuracy: 0.5387 - val_loss: 1.6982 - val_accuracy: 0.4662\n",
      "Epoch 5/5\n",
      "10/10 [==============================] - 0s 47ms/step - loss: 1.1219 - accuracy: 0.5839 - val_loss: 1.8749 - val_accuracy: 0.4511\n"
     ]
    }
   ],
   "source": [
    "history = model.fit(X_train, y_train, epochs=5,\n",
    "                    validation_data=(X_test, y_test),\n",
    "                    callbacks=[expon_lr])"
   ]
  },
  {
   "cell_type": "code",
   "execution_count": 17,
   "id": "412d2f75-22e7-4ab4-b6da-f57a68d559d2",
   "metadata": {},
   "outputs": [
    {
     "data": {
      "text/plain": [
       "Text(0, 0.5, 'Loss')"
      ]
     },
     "execution_count": 17,
     "metadata": {},
     "output_type": "execute_result"
    },
    {
     "data": {
      "image/png": "[encoded data removed]",
      "text/plain": [
       "<Figure size 640x480 with 1 Axes>"
      ]
     },
     "metadata": {},
     "output_type": "display_data"
    }
   ],
   "source": [
    "plt.plot(expon_lr.rates, expon_lr.losses)\n",
    "plt.gca().set_xscale('log')\n",
    "plt.hlines(min(expon_lr.losses), min(expon_lr.rates), max(expon_lr.rates))\n",
    "plt.axis([min(expon_lr.rates), max(expon_lr.rates), 0, expon_lr.losses[0]])\n",
    "plt.grid()\n",
    "plt.xlabel(\"Learning rate\")\n",
    "plt.ylabel(\"Loss\")"
   ]
  },
  {
   "cell_type": "code",
   "execution_count": 18,
   "id": "fa7ad00b-9a0f-4ac1-8a44-06cf317c8139",
   "metadata": {},
   "outputs": [
    {
     "name": "stdout",
     "output_type": "stream",
     "text": [
      "Min Loss: 1.0502586364746094\n",
      "Best learning rate: 0.0011327956\n"
     ]
    }
   ],
   "source": [
    "print(\"Min Loss: \" + str(min(expon_lr.losses)))\n",
    "print(\"Best learning rate: \" + str(expon_lr.rates[np.argmin(expon_lr.losses)]))\n",
    "alpha = expon_lr.rates[np.argmin(expon_lr.losses)];"
   ]
  },
  {
   "cell_type": "code",
   "execution_count": 19,
   "id": "2b53a0a8-5824-449c-b8ca-2df241079470",
   "metadata": {},
   "outputs": [],
   "source": [
    "from tensorflow.keras.callbacks import EarlyStopping\n",
    "from tensorflow.keras import layers, callbacks\n",
    "keras.backend.clear_session()\n",
    "np.random.seed(50)\n",
    "tf.random.set_seed(50)"
   ]
  },
  {
   "cell_type": "code",
   "execution_count": 20,
   "id": "5edb5014-ff4d-4e0b-ba46-b1a92295c0df",
   "metadata": {},
   "outputs": [],
   "source": [
    "model = keras.models.Sequential([\n",
    "    keras.layers.Flatten(input_shape=[24]),\n",
    "    keras.layers.Dense(150, activation=\"relu\"),\n",
    "    keras.layers.Dense(75, activation=\"relu\"),\n",
    "    keras.layers.Dense(8, activation=\"softmax\")\n",
    "])"
   ]
  },
  {
   "cell_type": "code",
   "execution_count": 21,
   "id": "6c1605f5-c778-486f-8bde-b16f55a1e0a2",
   "metadata": {},
   "outputs": [],
   "source": [
    "#Using optimized learning rate: \n",
    "model.compile(loss=\"sparse_categorical_crossentropy\",\n",
    "              optimizer=keras.optimizers.SGD(learning_rate=alpha),\n",
    "              metrics=[\"accuracy\"])"
   ]
  },
  {
   "cell_type": "code",
   "execution_count": 22,
   "id": "7502d23e-0beb-47af-a3aa-00dc77a75a95",
   "metadata": {},
   "outputs": [
    {
     "data": {
      "text/plain": [
       "'.\\\\colontypes_logs\\\\run_001'"
      ]
     },
     "execution_count": 22,
     "metadata": {},
     "output_type": "execute_result"
    }
   ],
   "source": [
    "run_index = 1 # increment this at every run\n",
    "run_logdir = os.path.join(os.curdir, \"colontypes_logs\", \"run_{:03d}\".format(run_index))\n",
    "run_logdir"
   ]
  },
  {
   "cell_type": "code",
   "execution_count": 23,
   "id": "ecfbcd4e-6350-40cf-81bb-1e42dd48483a",
   "metadata": {},
   "outputs": [
    {
     "name": "stdout",
     "output_type": "stream",
     "text": [
      "Epoch 1/200\n",
      "10/10 [==============================] - 2s 94ms/step - loss: 5.5061 - accuracy: 0.3484 - val_loss: 2.5420 - val_accuracy: 0.4436\n",
      "Epoch 2/200\n",
      "10/10 [==============================] - 0s 33ms/step - loss: 2.2960 - accuracy: 0.4452 - val_loss: 1.6724 - val_accuracy: 0.5714\n",
      "Epoch 3/200\n",
      "10/10 [==============================] - 0s 34ms/step - loss: 1.4637 - accuracy: 0.5258 - val_loss: 1.4689 - val_accuracy: 0.4962\n",
      "Epoch 4/200\n",
      "10/10 [==============================] - 0s 32ms/step - loss: 1.2757 - accuracy: 0.5613 - val_loss: 1.1655 - val_accuracy: 0.4887\n",
      "Epoch 5/200\n",
      "10/10 [==============================] - 0s 38ms/step - loss: 1.0877 - accuracy: 0.5871 - val_loss: 1.0037 - val_accuracy: 0.5489\n",
      "Epoch 6/200\n",
      "10/10 [==============================] - 0s 35ms/step - loss: 0.8615 - accuracy: 0.6065 - val_loss: 0.9675 - val_accuracy: 0.6316\n",
      "Epoch 7/200\n",
      "10/10 [==============================] - 0s 39ms/step - loss: 0.7792 - accuracy: 0.6290 - val_loss: 0.9263 - val_accuracy: 0.5639\n",
      "Epoch 8/200\n",
      "10/10 [==============================] - 0s 43ms/step - loss: 0.7780 - accuracy: 0.6129 - val_loss: 0.8841 - val_accuracy: 0.5714\n",
      "Epoch 9/200\n",
      "10/10 [==============================] - 0s 15ms/step - loss: 0.7569 - accuracy: 0.6129 - val_loss: 0.9260 - val_accuracy: 0.5414\n",
      "Epoch 10/200\n",
      "10/10 [==============================] - 0s 25ms/step - loss: 1.0860 - accuracy: 0.5355 - val_loss: 1.4498 - val_accuracy: 0.5188\n",
      "Epoch 11/200\n",
      "10/10 [==============================] - 0s 44ms/step - loss: 0.7293 - accuracy: 0.6806 - val_loss: 0.9482 - val_accuracy: 0.5564\n",
      "Epoch 12/200\n",
      "10/10 [==============================] - 0s 35ms/step - loss: 0.7005 - accuracy: 0.6742 - val_loss: 0.8119 - val_accuracy: 0.6165\n",
      "Epoch 13/200\n",
      "10/10 [==============================] - 0s 31ms/step - loss: 0.8149 - accuracy: 0.6065 - val_loss: 1.7054 - val_accuracy: 0.5338\n",
      "Epoch 14/200\n",
      "10/10 [==============================] - 0s 43ms/step - loss: 0.6821 - accuracy: 0.6903 - val_loss: 0.7990 - val_accuracy: 0.6767\n",
      "Epoch 15/200\n",
      "10/10 [==============================] - 0s 43ms/step - loss: 0.5854 - accuracy: 0.7065 - val_loss: 0.8443 - val_accuracy: 0.6090\n",
      "Epoch 16/200\n",
      "10/10 [==============================] - 0s 23ms/step - loss: 0.6170 - accuracy: 0.7097 - val_loss: 0.8170 - val_accuracy: 0.6466\n",
      "Epoch 17/200\n",
      "10/10 [==============================] - 0s 30ms/step - loss: 0.6208 - accuracy: 0.7129 - val_loss: 0.7698 - val_accuracy: 0.6767\n",
      "Epoch 18/200\n",
      "10/10 [==============================] - 0s 24ms/step - loss: 0.6153 - accuracy: 0.6968 - val_loss: 1.0064 - val_accuracy: 0.5789\n",
      "Epoch 19/200\n",
      "10/10 [==============================] - 0s 26ms/step - loss: 0.5838 - accuracy: 0.7065 - val_loss: 0.7921 - val_accuracy: 0.6617\n",
      "Epoch 20/200\n",
      "10/10 [==============================] - 0s 14ms/step - loss: 0.6309 - accuracy: 0.7065 - val_loss: 0.8461 - val_accuracy: 0.6617\n",
      "Epoch 21/200\n",
      "10/10 [==============================] - 0s 14ms/step - loss: 0.5373 - accuracy: 0.7323 - val_loss: 0.8013 - val_accuracy: 0.6617\n",
      "Epoch 22/200\n",
      "10/10 [==============================] - 0s 17ms/step - loss: 0.6344 - accuracy: 0.7097 - val_loss: 0.7668 - val_accuracy: 0.7143\n",
      "Epoch 23/200\n",
      "10/10 [==============================] - 0s 26ms/step - loss: 0.5476 - accuracy: 0.7387 - val_loss: 0.9573 - val_accuracy: 0.5639\n",
      "Epoch 24/200\n",
      "10/10 [==============================] - 0s 27ms/step - loss: 0.5528 - accuracy: 0.7355 - val_loss: 1.3408 - val_accuracy: 0.5414\n",
      "Epoch 25/200\n",
      "10/10 [==============================] - 1s 59ms/step - loss: 0.8541 - accuracy: 0.6258 - val_loss: 1.0649 - val_accuracy: 0.6015\n",
      "Epoch 26/200\n",
      "10/10 [==============================] - 0s 12ms/step - loss: 0.5887 - accuracy: 0.7161 - val_loss: 1.0888 - val_accuracy: 0.5940\n",
      "Epoch 27/200\n",
      "10/10 [==============================] - 0s 13ms/step - loss: 0.7105 - accuracy: 0.6677 - val_loss: 0.9719 - val_accuracy: 0.5714\n",
      "Epoch 28/200\n",
      "10/10 [==============================] - 0s 11ms/step - loss: 0.5149 - accuracy: 0.7613 - val_loss: 0.8697 - val_accuracy: 0.6541\n",
      "Epoch 29/200\n",
      "10/10 [==============================] - 0s 11ms/step - loss: 0.5731 - accuracy: 0.7290 - val_loss: 0.7791 - val_accuracy: 0.6692\n",
      "Epoch 30/200\n",
      "10/10 [==============================] - 0s 12ms/step - loss: 0.5808 - accuracy: 0.7032 - val_loss: 1.0104 - val_accuracy: 0.5865\n",
      "Epoch 31/200\n",
      "10/10 [==============================] - 0s 16ms/step - loss: 0.6136 - accuracy: 0.6839 - val_loss: 0.8286 - val_accuracy: 0.6466\n",
      "Epoch 32/200\n",
      "10/10 [==============================] - 0s 20ms/step - loss: 0.4796 - accuracy: 0.7677 - val_loss: 0.7642 - val_accuracy: 0.7218\n",
      "Epoch 33/200\n",
      "10/10 [==============================] - 0s 14ms/step - loss: 0.5444 - accuracy: 0.7226 - val_loss: 0.9127 - val_accuracy: 0.6241\n",
      "Epoch 34/200\n",
      "10/10 [==============================] - 0s 16ms/step - loss: 0.5918 - accuracy: 0.7161 - val_loss: 0.9934 - val_accuracy: 0.6316\n",
      "Epoch 35/200\n",
      "10/10 [==============================] - 0s 16ms/step - loss: 0.5396 - accuracy: 0.7290 - val_loss: 0.7639 - val_accuracy: 0.6842\n",
      "Epoch 36/200\n",
      "10/10 [==============================] - 0s 11ms/step - loss: 0.5327 - accuracy: 0.7387 - val_loss: 1.4312 - val_accuracy: 0.5489\n",
      "Epoch 37/200\n",
      "10/10 [==============================] - 0s 12ms/step - loss: 0.5258 - accuracy: 0.7645 - val_loss: 0.8617 - val_accuracy: 0.6917\n",
      "Epoch 38/200\n",
      "10/10 [==============================] - 0s 16ms/step - loss: 0.5781 - accuracy: 0.7258 - val_loss: 1.1379 - val_accuracy: 0.6015\n",
      "Epoch 39/200\n",
      "10/10 [==============================] - 0s 17ms/step - loss: 0.6004 - accuracy: 0.7000 - val_loss: 0.9044 - val_accuracy: 0.6617\n",
      "Epoch 40/200\n",
      "10/10 [==============================] - 0s 21ms/step - loss: 0.4941 - accuracy: 0.7677 - val_loss: 0.7905 - val_accuracy: 0.7293\n",
      "Epoch 41/200\n",
      "10/10 [==============================] - 0s 20ms/step - loss: 0.4514 - accuracy: 0.7968 - val_loss: 0.7705 - val_accuracy: 0.7068\n",
      "Epoch 42/200\n",
      "10/10 [==============================] - 0s 12ms/step - loss: 0.4610 - accuracy: 0.7742 - val_loss: 0.7742 - val_accuracy: 0.7293\n",
      "Epoch 43/200\n",
      "10/10 [==============================] - 0s 15ms/step - loss: 0.4642 - accuracy: 0.7677 - val_loss: 0.8217 - val_accuracy: 0.6541\n",
      "Epoch 44/200\n",
      "10/10 [==============================] - 0s 12ms/step - loss: 0.4598 - accuracy: 0.7871 - val_loss: 0.9469 - val_accuracy: 0.5865\n",
      "Epoch 45/200\n",
      "10/10 [==============================] - 0s 16ms/step - loss: 0.5643 - accuracy: 0.7129 - val_loss: 0.9039 - val_accuracy: 0.6842\n",
      "Epoch 46/200\n",
      "10/10 [==============================] - 0s 16ms/step - loss: 0.4779 - accuracy: 0.7806 - val_loss: 0.8307 - val_accuracy: 0.6466\n",
      "Epoch 47/200\n",
      "10/10 [==============================] - 0s 16ms/step - loss: 0.5091 - accuracy: 0.7452 - val_loss: 0.7808 - val_accuracy: 0.7368\n",
      "Epoch 48/200\n",
      "10/10 [==============================] - 0s 12ms/step - loss: 0.4753 - accuracy: 0.7710 - val_loss: 0.8052 - val_accuracy: 0.7293\n",
      "Epoch 49/200\n",
      "10/10 [==============================] - 0s 15ms/step - loss: 0.5560 - accuracy: 0.7710 - val_loss: 0.8059 - val_accuracy: 0.7218\n",
      "Epoch 50/200\n",
      "10/10 [==============================] - 0s 14ms/step - loss: 0.4452 - accuracy: 0.7774 - val_loss: 0.8672 - val_accuracy: 0.6617\n",
      "Epoch 51/200\n",
      "10/10 [==============================] - 0s 20ms/step - loss: 0.4328 - accuracy: 0.7839 - val_loss: 0.8089 - val_accuracy: 0.6692\n",
      "Epoch 52/200\n",
      "10/10 [==============================] - 0s 19ms/step - loss: 0.4861 - accuracy: 0.7548 - val_loss: 0.9273 - val_accuracy: 0.6090\n"
     ]
    }
   ],
   "source": [
    "early_stopping_cb = keras.callbacks.EarlyStopping(\n",
    "    min_delta=0.0005, # minimium amount of change to count as an improvement\n",
    "    patience=20, # how many epochs to wait before stopping\n",
    ")\n",
    "checkpoint_cb = keras.callbacks.ModelCheckpoint(\"colontypes_model.h5\", save_best_only=True)\n",
    "tensorboard_cb = keras.callbacks.TensorBoard(run_logdir)\n",
    "\n",
    "history = model.fit(X_train, y_train, epochs=200,\n",
    "                    validation_data=(X_test, y_test),\n",
    "                    callbacks=[checkpoint_cb, early_stopping_cb, tensorboard_cb])"
   ]
  },
  {
   "cell_type": "code",
   "execution_count": 24,
   "id": "a2c2297e-4f65-4b7d-8cc7-33b5ee282e4a",
   "metadata": {},
   "outputs": [
    {
     "name": "stdout",
     "output_type": "stream",
     "text": [
      "5/5 [==============================] - 0s 2ms/step - loss: 0.7639 - accuracy: 0.6842\n",
      "10/10 [==============================] - 0s 3ms/step - loss: 0.4900 - accuracy: 0.7613\n"
     ]
    },
    {
     "data": {
      "text/plain": [
       "[0.4899553954601288, 0.7612903118133545]"
      ]
     },
     "execution_count": 24,
     "metadata": {},
     "output_type": "execute_result"
    }
   ],
   "source": [
    "model = keras.models.load_model(\"colontypes_model.h5\") # rollback to best model\n",
    "model.evaluate(X_test, y_test)\n",
    "model.evaluate(X_train, y_train)"
   ]
  },
  {
   "cell_type": "code",
   "execution_count": 25,
   "id": "9ee5c070-4d30-4530-8cfa-2083c681c4aa",
   "metadata": {},
   "outputs": [
    {
     "data": {
      "image/png": "[encoded data removed]",
      "text/plain": [
       "<Figure size 800x500 with 1 Axes>"
      ]
     },
     "metadata": {},
     "output_type": "display_data"
    }
   ],
   "source": [
    "#Plot of Loss, Val_Loss, Accuracy and Val_Accuracy, with loss and val_loss normalized by max and min\n",
    "hist = pd.DataFrame(history.history)#.plot(figsize=(8, 5))\n",
    "hist['loss'] = (hist['loss'] - hist['loss'].min()) / (hist['loss'].max() - hist['loss'].min())\n",
    "hist['val_loss'] = (hist['val_loss'] - hist['val_loss'].min()) / (hist['val_loss'].max() - hist['val_loss'].min())\n",
    "hist.plot(figsize=(8,5))\n",
    "plt.grid(True)\n",
    "plt.gca().set_ylim(0, 1)\n",
    " \n",
    "plt.show()"
   ]
  },
  {
   "cell_type": "code",
   "execution_count": null,
   "id": "8a168d38-0070-4880-b207-46dd1c8f0ae0",
   "metadata": {},
   "outputs": [],
   "source": []
  }
 ],
 "metadata": {
  "kernelspec": {
   "display_name": "Python 3 (ipykernel)",
   "language": "python",
   "name": "python3"
  },
  "language_info": {
   "codemirror_mode": {
    "name": "ipython",
    "version": 3
   },
   "file_extension": ".py",
   "mimetype": "text/x-python",
   "name": "python",
   "nbconvert_exporter": "python",
   "pygments_lexer": "ipython3",
   "version": "3.10.0"
  }
 },
 "nbformat": 4,
 "nbformat_minor": 5
}
