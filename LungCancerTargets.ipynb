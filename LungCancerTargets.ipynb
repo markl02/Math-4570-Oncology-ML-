{
 "cells": [
  {
   "cell_type": "code",
   "execution_count": 1,
   "id": "49557e45-ec62-4498-b00c-ed11b32a3f46",
   "metadata": {},
   "outputs": [],
   "source": [
    "import numpy as np\n",
    "import pandas as pd\n",
    "import matplotlib.pyplot as plt\n",
    "import seaborn as sns\n",
    "import re\n",
    "import sklearn.decomposition\n",
    "from sklearn.model_selection import StratifiedKFold, train_test_split\n",
    "from sklearn.linear_model import LogisticRegression\n",
    "from sklearn.metrics import auc, accuracy_score, confusion_matrix, roc_curve, precision_score, recall_score, f1_score\n",
    "import tensorflow as tf\n",
    "from tensorflow import keras\n",
    "import os"
   ]
  },
  {
   "cell_type": "code",
   "execution_count": 2,
   "id": "0ec90897-3be3-4e08-aa3a-dccf97761033",
   "metadata": {},
   "outputs": [
    {
     "data": {
      "text/html": [
       "<div>\n",
       "<style scoped>\n",
       "    .dataframe tbody tr th:only-of-type {\n",
       "        vertical-align: middle;\n",
       "    }\n",
       "\n",
       "    .dataframe tbody tr th {\n",
       "        vertical-align: top;\n",
       "    }\n",
       "\n",
       "    .dataframe thead th {\n",
       "        text-align: right;\n",
       "    }\n",
       "</style>\n",
       "<table border=\"1\" class=\"dataframe\">\n",
       "  <thead>\n",
       "    <tr style=\"text-align: right;\">\n",
       "      <th></th>\n",
       "      <th>ACH-000001_x</th>\n",
       "      <th>ACH-000004_x</th>\n",
       "      <th>ACH-000005_x</th>\n",
       "      <th>ACH-000007_x</th>\n",
       "      <th>ACH-000009_x</th>\n",
       "      <th>ACH-000011_x</th>\n",
       "      <th>ACH-000012_x</th>\n",
       "      <th>ACH-000013_x</th>\n",
       "      <th>ACH-000014_x</th>\n",
       "      <th>ACH-000015_x</th>\n",
       "      <th>...</th>\n",
       "      <th>ACH-001578</th>\n",
       "      <th>ACH-000036</th>\n",
       "      <th>ACH-000973</th>\n",
       "      <th>ACH-001128</th>\n",
       "      <th>ACH-000750</th>\n",
       "      <th>ACH-000285</th>\n",
       "      <th>ACH-002669</th>\n",
       "      <th>ACH-001858</th>\n",
       "      <th>ACH-001997</th>\n",
       "      <th>ACH-000052</th>\n",
       "    </tr>\n",
       "  </thead>\n",
       "  <tbody>\n",
       "    <tr>\n",
       "      <th>AARSD1</th>\n",
       "      <td>0.014633</td>\n",
       "      <td>0.088367</td>\n",
       "      <td>0.158961</td>\n",
       "      <td>0.068823</td>\n",
       "      <td>0.310903</td>\n",
       "      <td>0.200716</td>\n",
       "      <td>0.130371</td>\n",
       "      <td>0.074307</td>\n",
       "      <td>0.211617</td>\n",
       "      <td>0.061772</td>\n",
       "      <td>...</td>\n",
       "      <td>5.958843</td>\n",
       "      <td>5.149747</td>\n",
       "      <td>5.951168</td>\n",
       "      <td>5.877008</td>\n",
       "      <td>6.145881</td>\n",
       "      <td>6.647171</td>\n",
       "      <td>4.320485</td>\n",
       "      <td>5.039577</td>\n",
       "      <td>5.185867</td>\n",
       "      <td>4.813012</td>\n",
       "    </tr>\n",
       "    <tr>\n",
       "      <th>ABCC1</th>\n",
       "      <td>0.054252</td>\n",
       "      <td>0.186955</td>\n",
       "      <td>0.029162</td>\n",
       "      <td>0.012003</td>\n",
       "      <td>0.018367</td>\n",
       "      <td>0.015148</td>\n",
       "      <td>0.026059</td>\n",
       "      <td>0.007718</td>\n",
       "      <td>0.009485</td>\n",
       "      <td>0.047440</td>\n",
       "      <td>...</td>\n",
       "      <td>4.636335</td>\n",
       "      <td>5.960465</td>\n",
       "      <td>4.406673</td>\n",
       "      <td>5.581653</td>\n",
       "      <td>4.113534</td>\n",
       "      <td>4.480911</td>\n",
       "      <td>3.740928</td>\n",
       "      <td>6.244126</td>\n",
       "      <td>4.234195</td>\n",
       "      <td>4.346957</td>\n",
       "    </tr>\n",
       "    <tr>\n",
       "      <th>ABHD5</th>\n",
       "      <td>0.015684</td>\n",
       "      <td>0.013930</td>\n",
       "      <td>0.029837</td>\n",
       "      <td>0.008638</td>\n",
       "      <td>0.007884</td>\n",
       "      <td>0.014389</td>\n",
       "      <td>0.015192</td>\n",
       "      <td>0.025539</td>\n",
       "      <td>0.052454</td>\n",
       "      <td>0.013927</td>\n",
       "      <td>...</td>\n",
       "      <td>4.544733</td>\n",
       "      <td>3.382667</td>\n",
       "      <td>4.394377</td>\n",
       "      <td>3.665620</td>\n",
       "      <td>2.538538</td>\n",
       "      <td>3.593354</td>\n",
       "      <td>4.244126</td>\n",
       "      <td>4.084064</td>\n",
       "      <td>4.021480</td>\n",
       "      <td>1.790772</td>\n",
       "    </tr>\n",
       "    <tr>\n",
       "      <th>ABRA</th>\n",
       "      <td>0.011264</td>\n",
       "      <td>0.088052</td>\n",
       "      <td>0.001308</td>\n",
       "      <td>0.023693</td>\n",
       "      <td>0.043935</td>\n",
       "      <td>0.032149</td>\n",
       "      <td>0.086439</td>\n",
       "      <td>0.035433</td>\n",
       "      <td>0.009032</td>\n",
       "      <td>0.009382</td>\n",
       "      <td>...</td>\n",
       "      <td>0.000000</td>\n",
       "      <td>0.000000</td>\n",
       "      <td>0.000000</td>\n",
       "      <td>0.014355</td>\n",
       "      <td>0.000000</td>\n",
       "      <td>0.150560</td>\n",
       "      <td>0.014355</td>\n",
       "      <td>0.000000</td>\n",
       "      <td>0.000000</td>\n",
       "      <td>0.000000</td>\n",
       "    </tr>\n",
       "    <tr>\n",
       "      <th>ABRA</th>\n",
       "      <td>0.011264</td>\n",
       "      <td>0.088052</td>\n",
       "      <td>0.001308</td>\n",
       "      <td>0.023693</td>\n",
       "      <td>0.043935</td>\n",
       "      <td>0.032149</td>\n",
       "      <td>0.086439</td>\n",
       "      <td>0.035433</td>\n",
       "      <td>0.009032</td>\n",
       "      <td>0.009382</td>\n",
       "      <td>...</td>\n",
       "      <td>0.000000</td>\n",
       "      <td>0.000000</td>\n",
       "      <td>0.000000</td>\n",
       "      <td>0.014355</td>\n",
       "      <td>0.000000</td>\n",
       "      <td>0.150560</td>\n",
       "      <td>0.014355</td>\n",
       "      <td>0.000000</td>\n",
       "      <td>0.000000</td>\n",
       "      <td>0.000000</td>\n",
       "    </tr>\n",
       "    <tr>\n",
       "      <th>...</th>\n",
       "      <td>...</td>\n",
       "      <td>...</td>\n",
       "      <td>...</td>\n",
       "      <td>...</td>\n",
       "      <td>...</td>\n",
       "      <td>...</td>\n",
       "      <td>...</td>\n",
       "      <td>...</td>\n",
       "      <td>...</td>\n",
       "      <td>...</td>\n",
       "      <td>...</td>\n",
       "      <td>...</td>\n",
       "      <td>...</td>\n",
       "      <td>...</td>\n",
       "      <td>...</td>\n",
       "      <td>...</td>\n",
       "      <td>...</td>\n",
       "      <td>...</td>\n",
       "      <td>...</td>\n",
       "      <td>...</td>\n",
       "      <td>...</td>\n",
       "    </tr>\n",
       "    <tr>\n",
       "      <th>ZNF875</th>\n",
       "      <td>0.812435</td>\n",
       "      <td>0.007931</td>\n",
       "      <td>0.000986</td>\n",
       "      <td>0.015101</td>\n",
       "      <td>0.063617</td>\n",
       "      <td>0.020492</td>\n",
       "      <td>0.069496</td>\n",
       "      <td>0.656888</td>\n",
       "      <td>0.006835</td>\n",
       "      <td>0.089348</td>\n",
       "      <td>...</td>\n",
       "      <td>5.205158</td>\n",
       "      <td>4.089159</td>\n",
       "      <td>3.304511</td>\n",
       "      <td>4.583760</td>\n",
       "      <td>4.097611</td>\n",
       "      <td>4.250204</td>\n",
       "      <td>4.450881</td>\n",
       "      <td>3.436961</td>\n",
       "      <td>4.376429</td>\n",
       "      <td>4.854993</td>\n",
       "    </tr>\n",
       "    <tr>\n",
       "      <th>ZSCAN4</th>\n",
       "      <td>0.042037</td>\n",
       "      <td>0.007619</td>\n",
       "      <td>0.002837</td>\n",
       "      <td>0.002026</td>\n",
       "      <td>0.025120</td>\n",
       "      <td>0.023477</td>\n",
       "      <td>0.020980</td>\n",
       "      <td>0.032201</td>\n",
       "      <td>0.074057</td>\n",
       "      <td>0.005571</td>\n",
       "      <td>...</td>\n",
       "      <td>0.028569</td>\n",
       "      <td>0.028569</td>\n",
       "      <td>0.000000</td>\n",
       "      <td>0.000000</td>\n",
       "      <td>0.014355</td>\n",
       "      <td>0.000000</td>\n",
       "      <td>0.056584</td>\n",
       "      <td>0.014355</td>\n",
       "      <td>0.028569</td>\n",
       "      <td>0.000000</td>\n",
       "    </tr>\n",
       "    <tr>\n",
       "      <th>ZSCAN4</th>\n",
       "      <td>0.042037</td>\n",
       "      <td>0.007619</td>\n",
       "      <td>0.002837</td>\n",
       "      <td>0.002026</td>\n",
       "      <td>0.025120</td>\n",
       "      <td>0.023477</td>\n",
       "      <td>0.020980</td>\n",
       "      <td>0.032201</td>\n",
       "      <td>0.074057</td>\n",
       "      <td>0.005571</td>\n",
       "      <td>...</td>\n",
       "      <td>0.028569</td>\n",
       "      <td>0.028569</td>\n",
       "      <td>0.000000</td>\n",
       "      <td>0.000000</td>\n",
       "      <td>0.014355</td>\n",
       "      <td>0.000000</td>\n",
       "      <td>0.056584</td>\n",
       "      <td>0.014355</td>\n",
       "      <td>0.028569</td>\n",
       "      <td>0.000000</td>\n",
       "    </tr>\n",
       "    <tr>\n",
       "      <th>ZWINT</th>\n",
       "      <td>0.080585</td>\n",
       "      <td>0.230569</td>\n",
       "      <td>0.274568</td>\n",
       "      <td>0.615338</td>\n",
       "      <td>0.405712</td>\n",
       "      <td>0.535260</td>\n",
       "      <td>0.966785</td>\n",
       "      <td>0.010011</td>\n",
       "      <td>0.937716</td>\n",
       "      <td>0.120301</td>\n",
       "      <td>...</td>\n",
       "      <td>6.078524</td>\n",
       "      <td>5.747656</td>\n",
       "      <td>7.031991</td>\n",
       "      <td>6.802710</td>\n",
       "      <td>6.051155</td>\n",
       "      <td>7.784504</td>\n",
       "      <td>7.004951</td>\n",
       "      <td>5.780835</td>\n",
       "      <td>5.515069</td>\n",
       "      <td>7.090007</td>\n",
       "    </tr>\n",
       "    <tr>\n",
       "      <th>ZWINT</th>\n",
       "      <td>0.080585</td>\n",
       "      <td>0.230569</td>\n",
       "      <td>0.274568</td>\n",
       "      <td>0.615338</td>\n",
       "      <td>0.405712</td>\n",
       "      <td>0.535260</td>\n",
       "      <td>0.966785</td>\n",
       "      <td>0.010011</td>\n",
       "      <td>0.937716</td>\n",
       "      <td>0.120301</td>\n",
       "      <td>...</td>\n",
       "      <td>6.078524</td>\n",
       "      <td>5.747656</td>\n",
       "      <td>7.031991</td>\n",
       "      <td>6.802710</td>\n",
       "      <td>6.051155</td>\n",
       "      <td>7.784504</td>\n",
       "      <td>7.004951</td>\n",
       "      <td>5.780835</td>\n",
       "      <td>5.515069</td>\n",
       "      <td>7.090007</td>\n",
       "    </tr>\n",
       "  </tbody>\n",
       "</table>\n",
       "<p>818 rows × 3578 columns</p>\n",
       "</div>"
      ],
      "text/plain": [
       "        ACH-000001_x  ACH-000004_x  ACH-000005_x  ACH-000007_x  ACH-000009_x  \\\n",
       "AARSD1      0.014633      0.088367      0.158961      0.068823      0.310903   \n",
       "ABCC1       0.054252      0.186955      0.029162      0.012003      0.018367   \n",
       "ABHD5       0.015684      0.013930      0.029837      0.008638      0.007884   \n",
       "ABRA        0.011264      0.088052      0.001308      0.023693      0.043935   \n",
       "ABRA        0.011264      0.088052      0.001308      0.023693      0.043935   \n",
       "...              ...           ...           ...           ...           ...   \n",
       "ZNF875      0.812435      0.007931      0.000986      0.015101      0.063617   \n",
       "ZSCAN4      0.042037      0.007619      0.002837      0.002026      0.025120   \n",
       "ZSCAN4      0.042037      0.007619      0.002837      0.002026      0.025120   \n",
       "ZWINT       0.080585      0.230569      0.274568      0.615338      0.405712   \n",
       "ZWINT       0.080585      0.230569      0.274568      0.615338      0.405712   \n",
       "\n",
       "        ACH-000011_x  ACH-000012_x  ACH-000013_x  ACH-000014_x  ACH-000015_x  \\\n",
       "AARSD1      0.200716      0.130371      0.074307      0.211617      0.061772   \n",
       "ABCC1       0.015148      0.026059      0.007718      0.009485      0.047440   \n",
       "ABHD5       0.014389      0.015192      0.025539      0.052454      0.013927   \n",
       "ABRA        0.032149      0.086439      0.035433      0.009032      0.009382   \n",
       "ABRA        0.032149      0.086439      0.035433      0.009032      0.009382   \n",
       "...              ...           ...           ...           ...           ...   \n",
       "ZNF875      0.020492      0.069496      0.656888      0.006835      0.089348   \n",
       "ZSCAN4      0.023477      0.020980      0.032201      0.074057      0.005571   \n",
       "ZSCAN4      0.023477      0.020980      0.032201      0.074057      0.005571   \n",
       "ZWINT       0.535260      0.966785      0.010011      0.937716      0.120301   \n",
       "ZWINT       0.535260      0.966785      0.010011      0.937716      0.120301   \n",
       "\n",
       "        ...  ACH-001578  ACH-000036  ACH-000973  ACH-001128  ACH-000750  \\\n",
       "AARSD1  ...    5.958843    5.149747    5.951168    5.877008    6.145881   \n",
       "ABCC1   ...    4.636335    5.960465    4.406673    5.581653    4.113534   \n",
       "ABHD5   ...    4.544733    3.382667    4.394377    3.665620    2.538538   \n",
       "ABRA    ...    0.000000    0.000000    0.000000    0.014355    0.000000   \n",
       "ABRA    ...    0.000000    0.000000    0.000000    0.014355    0.000000   \n",
       "...     ...         ...         ...         ...         ...         ...   \n",
       "ZNF875  ...    5.205158    4.089159    3.304511    4.583760    4.097611   \n",
       "ZSCAN4  ...    0.028569    0.028569    0.000000    0.000000    0.014355   \n",
       "ZSCAN4  ...    0.028569    0.028569    0.000000    0.000000    0.014355   \n",
       "ZWINT   ...    6.078524    5.747656    7.031991    6.802710    6.051155   \n",
       "ZWINT   ...    6.078524    5.747656    7.031991    6.802710    6.051155   \n",
       "\n",
       "        ACH-000285  ACH-002669  ACH-001858  ACH-001997  ACH-000052  \n",
       "AARSD1    6.647171    4.320485    5.039577    5.185867    4.813012  \n",
       "ABCC1     4.480911    3.740928    6.244126    4.234195    4.346957  \n",
       "ABHD5     3.593354    4.244126    4.084064    4.021480    1.790772  \n",
       "ABRA      0.150560    0.014355    0.000000    0.000000    0.000000  \n",
       "ABRA      0.150560    0.014355    0.000000    0.000000    0.000000  \n",
       "...            ...         ...         ...         ...         ...  \n",
       "ZNF875    4.250204    4.450881    3.436961    4.376429    4.854993  \n",
       "ZSCAN4    0.000000    0.056584    0.014355    0.028569    0.000000  \n",
       "ZSCAN4    0.000000    0.056584    0.014355    0.028569    0.000000  \n",
       "ZWINT     7.784504    7.004951    5.780835    5.515069    7.090007  \n",
       "ZWINT     7.784504    7.004951    5.780835    5.515069    7.090007  \n",
       "\n",
       "[818 rows x 3578 columns]"
      ]
     },
     "metadata": {},
     "output_type": "display_data"
    },
    {
     "data": {
      "text/plain": [
       "AARSD1    False\n",
       "ABCC1     False\n",
       "ABHD5     False\n",
       "ABRA      False\n",
       "ABRA      False\n",
       "          ...  \n",
       "ZNF875    False\n",
       "ZSCAN4    False\n",
       "ZSCAN4    False\n",
       "ZWINT     False\n",
       "ZWINT     False\n",
       "Name: label, Length: 818, dtype: bool"
      ]
     },
     "metadata": {},
     "output_type": "display_data"
    }
   ],
   "source": [
    "MergedData0 = pd.read_csv('Data.csv', index_col=0);\n",
    "MergedData1 = MergedData0.iloc[:, :-1]\n",
    "y = pd.read_csv(\"lung_training_genes_set.csv\", index_col='gene')\n",
    "y.rename_axis(\"DepMap_ID\")\n",
    "y = y == 'positive'\n",
    "data = MergedData1.merge(y, how='inner', left_index=True, right_index=True)\n",
    "Data = data.iloc[:, :-1]\n",
    "y = data.iloc[:, -1]\n",
    "display(Data)\n",
    "display(y)"
   ]
  },
  {
   "cell_type": "code",
   "execution_count": 3,
   "id": "ff443457-1b03-4ed8-bf89-e9ece2f7d64b",
   "metadata": {},
   "outputs": [],
   "source": [
    "data_gene_dep = Data.iloc[:, 0:1086]\n",
    "data_gene_dep;\n",
    "data_gene_eff = Data.iloc[:, 1087:2172]\n",
    "data_gene_eff;\n",
    "data_express = Data.iloc[:, 2173:3578]\n",
    "data_express;"
   ]
  },
  {
   "cell_type": "code",
   "execution_count": 4,
   "id": "afe9803d-368e-4013-9c6e-a5a2cde29986",
   "metadata": {},
   "outputs": [
    {
     "name": "stdout",
     "output_type": "stream",
     "text": [
      "[0.808155   0.01412096 0.00957975 0.00768487 0.00723295 0.00704766\n",
      " 0.00513337 0.00452754]\n"
     ]
    }
   ],
   "source": [
    "pca = sklearn.decomposition.PCA(n_components=8, svd_solver='randomized')\n",
    "X1 = pca.fit_transform(data_gene_dep)\n",
    "print(pca.explained_variance_ratio_)"
   ]
  },
  {
   "cell_type": "code",
   "execution_count": 5,
   "id": "0deb2839-5689-4715-91cd-5338f76a335f",
   "metadata": {},
   "outputs": [
    {
     "name": "stdout",
     "output_type": "stream",
     "text": [
      "[0.85168833 0.00842562 0.00713609 0.00627276 0.00580671 0.00450558\n",
      " 0.0042059  0.00401386]\n"
     ]
    }
   ],
   "source": [
    "pca = sklearn.decomposition.PCA(n_components=8, svd_solver='randomized')\n",
    "X2 = pca.fit_transform(data_gene_eff)\n",
    "print(pca.explained_variance_ratio_)"
   ]
  },
  {
   "cell_type": "code",
   "execution_count": 6,
   "id": "688c257c-3625-4c6d-bd3c-afb64aa71b63",
   "metadata": {},
   "outputs": [
    {
     "name": "stdout",
     "output_type": "stream",
     "text": [
      "[0.80517441 0.02739278 0.01962311 0.01299371 0.00592063 0.00477013\n",
      " 0.00438124 0.00408435]\n"
     ]
    }
   ],
   "source": [
    "pca = sklearn.decomposition.PCA(n_components=8, svd_solver='randomized')\n",
    "X3 = pca.fit_transform(data_express)\n",
    "print(pca.explained_variance_ratio_)"
   ]
  },
  {
   "cell_type": "code",
   "execution_count": 7,
   "id": "4e61c055-bc20-49d1-84b7-96fac753f838",
   "metadata": {},
   "outputs": [
    {
     "name": "stdout",
     "output_type": "stream",
     "text": [
      "(818, 24)\n"
     ]
    }
   ],
   "source": [
    "X4 = np.concatenate((X1, X2, X3), axis=1)\n",
    "print(X4.shape)"
   ]
  },
  {
   "cell_type": "code",
   "execution_count": 8,
   "id": "b1002ae4-e715-4cad-8b3a-70462b357bf9",
   "metadata": {},
   "outputs": [
    {
     "name": "stdout",
     "output_type": "stream",
     "text": [
      "(340, 24)\n",
      "(340,)\n",
      "167\n"
     ]
    },
    {
     "data": {
      "image/png": "[encoded data removed]",
      "text/plain": [
       "<Figure size 640x480 with 1 Axes>"
      ]
     },
     "metadata": {},
     "output_type": "display_data"
    }
   ],
   "source": [
    "select = np.maximum(y, np.random.rand(len(y)) < sum(y)/(len(y) - sum(y)))\n",
    "X4 = X4[select]\n",
    "y = y[select]\n",
    "print(X4.shape)\n",
    "print(y.shape)\n",
    "print(sum(y))\n",
    "sns.scatterplot(x= X4[:,0], y=X4[:,1], hue=y)\n",
    "plt.show()"
   ]
  },
  {
   "cell_type": "code",
   "execution_count": 9,
   "id": "c838e8df-005f-42cd-a1df-89e53156714d",
   "metadata": {},
   "outputs": [],
   "source": [
    "# Get the training and test data\n",
    "X_train, X_test, y_train, y_test = train_test_split(X4, y, test_size=0.3)\n",
    "\n",
    "# Fit the model\n",
    "model = LogisticRegression(max_iter=10000).fit(X_train, y_train)\n",
    "\n",
    "y_pred = model.predict(X_test)\n",
    "y_pred_rt = model.predict_proba(X_test)[:, 1]\n",
    "\n",
    "accuracy = str(accuracy_score(y_test, y_pred))\n",
    "fpr, tpr, thresholds = roc_curve(y_test, y_pred_rt)\n",
    "auc_value = str(auc(fpr, tpr))\n",
    "precision = str(precision_score(y_test, y_pred))\n",
    "recall = str(recall_score(y_test, y_pred))\n",
    "f1score = str(f1_score(y_test, y_pred, average=\"weighted\"))"
   ]
  },
  {
   "cell_type": "code",
   "execution_count": 10,
   "id": "8bacbe7d-9154-4895-a653-4eb4e7a82a2a",
   "metadata": {},
   "outputs": [
    {
     "name": "stdout",
     "output_type": "stream",
     "text": [
      "Accuracy:0.6568627450980392\n",
      "Precision:0.6382978723404256\n",
      "Recall:0.625\n"
     ]
    },
    {
     "data": {
      "image/png": "[encoded data removed]",
      "text/plain": [
       "<Figure size 640x480 with 2 Axes>"
      ]
     },
     "metadata": {},
     "output_type": "display_data"
    },
    {
     "name": "stdout",
     "output_type": "stream",
     "text": [
      "[[37 17]\n",
      " [18 30]]\n"
     ]
    }
   ],
   "source": [
    "print(\"Accuracy:\" + accuracy)\n",
    "print(\"Precision:\" + precision)\n",
    "print(\"Recall:\" + recall)\n",
    "\n",
    "conf_mx = confusion_matrix(y_test, y_pred)\n",
    "sns.heatmap(conf_mx)\n",
    "plt.show()\n",
    "\n",
    "print(conf_mx)"
   ]
  },
  {
   "cell_type": "code",
   "execution_count": 11,
   "id": "fa989574-94b9-4828-aacb-5b25c72de0b5",
   "metadata": {},
   "outputs": [],
   "source": [
    "keras.backend.clear_session()\n",
    "np.random.seed(50)\n",
    "tf.random.set_seed(50)"
   ]
  },
  {
   "cell_type": "code",
   "execution_count": 12,
   "id": "61961535-55d6-47b8-914f-9dd23ceb29c7",
   "metadata": {},
   "outputs": [],
   "source": [
    "K = keras.backend\n",
    "\n",
    "class ExponentialLearningRate(keras.callbacks.Callback):\n",
    "    def __init__(self, factor):\n",
    "        self.factor = factor\n",
    "        self.rates = []\n",
    "        self.losses = []\n",
    "    def on_batch_end(self, batch, logs):\n",
    "        self.rates.append(K.get_value(self.model.optimizer.lr))\n",
    "        self.losses.append(logs[\"loss\"])\n",
    "        K.set_value(self.model.optimizer.lr, self.model.optimizer.lr * self.factor)"
   ]
  },
  {
   "cell_type": "code",
   "execution_count": 13,
   "id": "e134c6f9-fcc0-4da6-be02-2d852aac185c",
   "metadata": {},
   "outputs": [],
   "source": [
    "model = keras.models.Sequential([\n",
    "    keras.layers.Flatten(input_shape=[24]),\n",
    "    keras.layers.Dense(150, activation=\"relu\"),\n",
    "    keras.layers.Dense(75, activation=\"relu\"),\n",
    "    keras.layers.Dense(8, activation=\"softmax\")\n",
    "])"
   ]
  },
  {
   "cell_type": "code",
   "execution_count": 14,
   "id": "498819d6-3ed7-4401-a79d-db8e9323942e",
   "metadata": {},
   "outputs": [
    {
     "name": "stdout",
     "output_type": "stream",
     "text": [
      "Model: \"sequential\"\n",
      "_________________________________________________________________\n",
      " Layer (type)                Output Shape              Param #   \n",
      "=================================================================\n",
      " flatten (Flatten)           (None, 24)                0         \n",
      "                                                                 \n",
      " dense (Dense)               (None, 150)               3750      \n",
      "                                                                 \n",
      " dense_1 (Dense)             (None, 75)                11325     \n",
      "                                                                 \n",
      " dense_2 (Dense)             (None, 8)                 608       \n",
      "                                                                 \n",
      "=================================================================\n",
      "Total params: 15,683\n",
      "Trainable params: 15,683\n",
      "Non-trainable params: 0\n",
      "_________________________________________________________________\n"
     ]
    }
   ],
   "source": [
    "model.summary()"
   ]
  },
  {
   "cell_type": "code",
   "execution_count": 15,
   "id": "dfd69cf4-44d7-4aac-9436-a81d5632c130",
   "metadata": {},
   "outputs": [],
   "source": [
    "model.compile(loss=\"sparse_categorical_crossentropy\",\n",
    "              optimizer=keras.optimizers.SGD(learning_rate=1e-3),\n",
    "              metrics=[\"accuracy\"])\n",
    "expon_lr = ExponentialLearningRate(factor=1.005)"
   ]
  },
  {
   "cell_type": "code",
   "execution_count": 16,
   "id": "e8cab419-e318-4084-a944-501ebccc9db3",
   "metadata": {},
   "outputs": [
    {
     "name": "stdout",
     "output_type": "stream",
     "text": [
      "Epoch 1/5\n",
      "8/8 [==============================] - 3s 155ms/step - loss: 2.2588 - accuracy: 0.4118 - val_loss: 2.2939 - val_accuracy: 0.5000\n",
      "Epoch 2/5\n",
      "8/8 [==============================] - 0s 44ms/step - loss: 1.8336 - accuracy: 0.4328 - val_loss: 1.6598 - val_accuracy: 0.5588\n",
      "Epoch 3/5\n",
      "8/8 [==============================] - 0s 66ms/step - loss: 1.7611 - accuracy: 0.4412 - val_loss: 1.2753 - val_accuracy: 0.6275\n",
      "Epoch 4/5\n",
      "8/8 [==============================] - 0s 47ms/step - loss: 1.3045 - accuracy: 0.5000 - val_loss: 1.0232 - val_accuracy: 0.5490\n",
      "Epoch 5/5\n",
      "8/8 [==============================] - 0s 59ms/step - loss: 1.0881 - accuracy: 0.5378 - val_loss: 2.0487 - val_accuracy: 0.4412\n"
     ]
    }
   ],
   "source": [
    "history = model.fit(X_train, y_train, epochs=5,\n",
    "                    validation_data=(X_test, y_test),\n",
    "                    callbacks=[expon_lr])"
   ]
  },
  {
   "cell_type": "code",
   "execution_count": 17,
   "id": "412d2f75-22e7-4ab4-b6da-f57a68d559d2",
   "metadata": {},
   "outputs": [
    {
     "data": {
      "text/plain": [
       "Text(0, 0.5, 'Loss')"
      ]
     },
     "execution_count": 17,
     "metadata": {},
     "output_type": "execute_result"
    },
    {
     "data": {
      "image/png": "[encoded data removed]",
      "text/plain": [
       "<Figure size 640x480 with 1 Axes>"
      ]
     },
     "metadata": {},
     "output_type": "display_data"
    }
   ],
   "source": [
    "plt.plot(expon_lr.rates, expon_lr.losses)\n",
    "plt.gca().set_xscale('log')\n",
    "plt.hlines(min(expon_lr.losses), min(expon_lr.rates), max(expon_lr.rates))\n",
    "plt.axis([min(expon_lr.rates), max(expon_lr.rates), 0, expon_lr.losses[0]])\n",
    "plt.grid()\n",
    "plt.xlabel(\"Learning rate\")\n",
    "plt.ylabel(\"Loss\")"
   ]
  },
  {
   "cell_type": "code",
   "execution_count": 18,
   "id": "fa7ad00b-9a0f-4ac1-8a44-06cf317c8139",
   "metadata": {},
   "outputs": [
    {
     "name": "stdout",
     "output_type": "stream",
     "text": [
      "Min Loss: 0.9227216839790344\n",
      "Best learning rate: 0.001184803\n"
     ]
    }
   ],
   "source": [
    "print(\"Min Loss: \" + str(min(expon_lr.losses)))\n",
    "print(\"Best learning rate: \" + str(expon_lr.rates[np.argmin(expon_lr.losses)]))\n",
    "alpha = expon_lr.rates[np.argmin(expon_lr.losses)];"
   ]
  },
  {
   "cell_type": "code",
   "execution_count": 19,
   "id": "2b53a0a8-5824-449c-b8ca-2df241079470",
   "metadata": {},
   "outputs": [],
   "source": [
    "from tensorflow.keras.callbacks import EarlyStopping\n",
    "from tensorflow.keras import layers, callbacks\n",
    "keras.backend.clear_session()\n",
    "np.random.seed(50)\n",
    "tf.random.set_seed(50)"
   ]
  },
  {
   "cell_type": "code",
   "execution_count": 20,
   "id": "5edb5014-ff4d-4e0b-ba46-b1a92295c0df",
   "metadata": {},
   "outputs": [],
   "source": [
    "model = keras.models.Sequential([\n",
    "    keras.layers.Flatten(input_shape=[24]),\n",
    "    keras.layers.Dense(150, activation=\"relu\"),\n",
    "    keras.layers.Dense(75, activation=\"relu\"),\n",
    "    keras.layers.Dense(8, activation=\"softmax\")\n",
    "])"
   ]
  },
  {
   "cell_type": "code",
   "execution_count": 21,
   "id": "6c1605f5-c778-486f-8bde-b16f55a1e0a2",
   "metadata": {},
   "outputs": [],
   "source": [
    "#Using optimized learning rate: \n",
    "model.compile(loss=\"sparse_categorical_crossentropy\",\n",
    "              optimizer=keras.optimizers.SGD(learning_rate=alpha),\n",
    "              metrics=[\"accuracy\"])"
   ]
  },
  {
   "cell_type": "code",
   "execution_count": 22,
   "id": "7502d23e-0beb-47af-a3aa-00dc77a75a95",
   "metadata": {},
   "outputs": [
    {
     "data": {
      "text/plain": [
       "'.\\\\lungtypes_logs\\\\run_001'"
      ]
     },
     "execution_count": 22,
     "metadata": {},
     "output_type": "execute_result"
    }
   ],
   "source": [
    "run_index = 1 # increment this at every run\n",
    "run_logdir = os.path.join(os.curdir, \"lungtypes_logs\", \"run_{:03d}\".format(run_index))\n",
    "run_logdir"
   ]
  },
  {
   "cell_type": "code",
   "execution_count": 23,
   "id": "ecfbcd4e-6350-40cf-81bb-1e42dd48483a",
   "metadata": {},
   "outputs": [
    {
     "name": "stdout",
     "output_type": "stream",
     "text": [
      "Epoch 1/200\n",
      "8/8 [==============================] - 2s 75ms/step - loss: 3.2494 - accuracy: 0.3235 - val_loss: 2.7896 - val_accuracy: 0.4510\n",
      "Epoch 2/200\n",
      "8/8 [==============================] - 0s 44ms/step - loss: 1.8879 - accuracy: 0.4328 - val_loss: 1.9720 - val_accuracy: 0.4902\n",
      "Epoch 3/200\n",
      "8/8 [==============================] - 0s 40ms/step - loss: 1.6845 - accuracy: 0.4370 - val_loss: 1.1145 - val_accuracy: 0.5784\n",
      "Epoch 4/200\n",
      "8/8 [==============================] - 0s 54ms/step - loss: 1.2434 - accuracy: 0.4958 - val_loss: 1.0070 - val_accuracy: 0.5294\n",
      "Epoch 5/200\n",
      "8/8 [==============================] - 0s 56ms/step - loss: 1.1357 - accuracy: 0.5420 - val_loss: 2.0973 - val_accuracy: 0.4118\n",
      "Epoch 6/200\n",
      "8/8 [==============================] - 0s 49ms/step - loss: 1.1234 - accuracy: 0.5504 - val_loss: 1.3422 - val_accuracy: 0.5490\n",
      "Epoch 7/200\n",
      "8/8 [==============================] - 0s 30ms/step - loss: 1.0218 - accuracy: 0.5798 - val_loss: 1.0285 - val_accuracy: 0.6078\n",
      "Epoch 8/200\n",
      "8/8 [==============================] - 0s 42ms/step - loss: 0.8721 - accuracy: 0.6218 - val_loss: 1.2449 - val_accuracy: 0.5980\n",
      "Epoch 9/200\n",
      "8/8 [==============================] - 0s 32ms/step - loss: 0.9722 - accuracy: 0.5714 - val_loss: 1.3340 - val_accuracy: 0.4118\n",
      "Epoch 10/200\n",
      "8/8 [==============================] - 0s 20ms/step - loss: 0.9231 - accuracy: 0.5924 - val_loss: 0.8726 - val_accuracy: 0.5294\n",
      "Epoch 11/200\n",
      "8/8 [==============================] - 0s 25ms/step - loss: 1.0009 - accuracy: 0.6008 - val_loss: 1.1695 - val_accuracy: 0.6176\n",
      "Epoch 12/200\n",
      "8/8 [==============================] - 0s 36ms/step - loss: 0.7336 - accuracy: 0.6303 - val_loss: 1.0369 - val_accuracy: 0.5098\n",
      "Epoch 13/200\n",
      "8/8 [==============================] - 0s 45ms/step - loss: 0.8200 - accuracy: 0.6261 - val_loss: 1.2739 - val_accuracy: 0.5588\n",
      "Epoch 14/200\n",
      "8/8 [==============================] - 1s 74ms/step - loss: 0.7587 - accuracy: 0.6555 - val_loss: 0.9687 - val_accuracy: 0.5392\n",
      "Epoch 15/200\n",
      "8/8 [==============================] - 0s 18ms/step - loss: 0.7445 - accuracy: 0.6471 - val_loss: 0.8419 - val_accuracy: 0.5490\n",
      "Epoch 16/200\n",
      "8/8 [==============================] - 0s 28ms/step - loss: 0.7644 - accuracy: 0.6639 - val_loss: 0.7699 - val_accuracy: 0.6275\n",
      "Epoch 17/200\n",
      "8/8 [==============================] - 0s 19ms/step - loss: 0.8415 - accuracy: 0.6134 - val_loss: 1.4184 - val_accuracy: 0.5686\n",
      "Epoch 18/200\n",
      "8/8 [==============================] - 0s 17ms/step - loss: 0.9405 - accuracy: 0.6092 - val_loss: 0.8868 - val_accuracy: 0.5196\n",
      "Epoch 19/200\n",
      "8/8 [==============================] - 0s 15ms/step - loss: 0.6623 - accuracy: 0.6975 - val_loss: 1.3756 - val_accuracy: 0.5588\n",
      "Epoch 20/200\n",
      "8/8 [==============================] - 0s 18ms/step - loss: 0.6947 - accuracy: 0.6765 - val_loss: 0.9852 - val_accuracy: 0.5392\n",
      "Epoch 21/200\n",
      "8/8 [==============================] - 0s 25ms/step - loss: 0.6581 - accuracy: 0.6723 - val_loss: 0.7531 - val_accuracy: 0.6275\n",
      "Epoch 22/200\n",
      "8/8 [==============================] - 0s 15ms/step - loss: 0.6288 - accuracy: 0.6765 - val_loss: 1.6006 - val_accuracy: 0.5490\n",
      "Epoch 23/200\n",
      "8/8 [==============================] - 0s 14ms/step - loss: 0.7257 - accuracy: 0.6513 - val_loss: 1.1022 - val_accuracy: 0.4804\n",
      "Epoch 24/200\n",
      "8/8 [==============================] - 0s 16ms/step - loss: 0.7126 - accuracy: 0.6723 - val_loss: 1.0347 - val_accuracy: 0.6275\n",
      "Epoch 25/200\n",
      "8/8 [==============================] - 0s 14ms/step - loss: 0.7799 - accuracy: 0.6555 - val_loss: 1.1372 - val_accuracy: 0.5882\n",
      "Epoch 26/200\n",
      "8/8 [==============================] - 0s 17ms/step - loss: 0.6391 - accuracy: 0.6975 - val_loss: 0.8885 - val_accuracy: 0.6373\n",
      "Epoch 27/200\n",
      "8/8 [==============================] - 0s 19ms/step - loss: 0.7442 - accuracy: 0.6471 - val_loss: 1.3439 - val_accuracy: 0.5882\n",
      "Epoch 28/200\n",
      "8/8 [==============================] - 0s 30ms/step - loss: 0.6577 - accuracy: 0.7143 - val_loss: 0.8875 - val_accuracy: 0.5686\n",
      "Epoch 29/200\n",
      "8/8 [==============================] - 0s 15ms/step - loss: 0.6973 - accuracy: 0.6765 - val_loss: 1.3099 - val_accuracy: 0.6078\n",
      "Epoch 30/200\n",
      "8/8 [==============================] - 0s 25ms/step - loss: 0.6473 - accuracy: 0.7227 - val_loss: 0.7886 - val_accuracy: 0.5784\n",
      "Epoch 31/200\n",
      "8/8 [==============================] - 0s 21ms/step - loss: 0.7491 - accuracy: 0.6513 - val_loss: 1.3207 - val_accuracy: 0.5784\n",
      "Epoch 32/200\n",
      "8/8 [==============================] - 0s 17ms/step - loss: 0.6486 - accuracy: 0.7059 - val_loss: 0.7850 - val_accuracy: 0.6765\n",
      "Epoch 33/200\n",
      "8/8 [==============================] - 0s 14ms/step - loss: 0.6053 - accuracy: 0.6723 - val_loss: 0.9146 - val_accuracy: 0.5980\n",
      "Epoch 34/200\n",
      "8/8 [==============================] - 0s 20ms/step - loss: 0.6861 - accuracy: 0.6975 - val_loss: 0.7666 - val_accuracy: 0.5980\n",
      "Epoch 35/200\n",
      "8/8 [==============================] - 0s 16ms/step - loss: 0.6777 - accuracy: 0.6891 - val_loss: 1.3206 - val_accuracy: 0.5000\n",
      "Epoch 36/200\n",
      "8/8 [==============================] - 0s 27ms/step - loss: 0.6713 - accuracy: 0.6975 - val_loss: 0.8055 - val_accuracy: 0.5784\n",
      "Epoch 37/200\n",
      "8/8 [==============================] - 0s 16ms/step - loss: 0.5790 - accuracy: 0.7269 - val_loss: 1.1285 - val_accuracy: 0.5784\n",
      "Epoch 38/200\n",
      "8/8 [==============================] - 0s 17ms/step - loss: 0.6015 - accuracy: 0.7143 - val_loss: 0.7952 - val_accuracy: 0.6078\n",
      "Epoch 39/200\n",
      "8/8 [==============================] - 0s 15ms/step - loss: 0.5274 - accuracy: 0.7395 - val_loss: 1.0406 - val_accuracy: 0.5098\n",
      "Epoch 40/200\n",
      "8/8 [==============================] - 0s 16ms/step - loss: 0.6107 - accuracy: 0.7059 - val_loss: 1.3641 - val_accuracy: 0.5784\n",
      "Epoch 41/200\n",
      "8/8 [==============================] - 0s 18ms/step - loss: 0.6225 - accuracy: 0.7269 - val_loss: 0.7565 - val_accuracy: 0.5980\n"
     ]
    }
   ],
   "source": [
    "early_stopping_cb = keras.callbacks.EarlyStopping(\n",
    "    min_delta=0.0005, # minimium amount of change to count as an improvement\n",
    "    patience=20, # how many epochs to wait before stopping\n",
    ")\n",
    "checkpoint_cb = keras.callbacks.ModelCheckpoint(\"lungtypes_model.h5\", save_best_only=True)\n",
    "tensorboard_cb = keras.callbacks.TensorBoard(run_logdir)\n",
    "\n",
    "history = model.fit(X_train, y_train, epochs=200,\n",
    "                    validation_data=(X_test, y_test),\n",
    "                    callbacks=[checkpoint_cb, early_stopping_cb, tensorboard_cb])"
   ]
  },
  {
   "cell_type": "code",
   "execution_count": 24,
   "id": "a2c2297e-4f65-4b7d-8cc7-33b5ee282e4a",
   "metadata": {},
   "outputs": [
    {
     "name": "stdout",
     "output_type": "stream",
     "text": [
      "4/4 [==============================] - 0s 3ms/step - loss: 0.7531 - accuracy: 0.6275\n",
      "8/8 [==============================] - 0s 3ms/step - loss: 0.6111 - accuracy: 0.6849\n"
     ]
    },
    {
     "data": {
      "text/plain": [
       "[0.6110876202583313, 0.6848739385604858]"
      ]
     },
     "execution_count": 24,
     "metadata": {},
     "output_type": "execute_result"
    }
   ],
   "source": [
    "model = keras.models.load_model(\"lungtypes_model.h5\") # rollback to best model\n",
    "model.evaluate(X_test, y_test)\n",
    "model.evaluate(X_train, y_train)"
   ]
  },
  {
   "cell_type": "code",
   "execution_count": 25,
   "id": "9ee5c070-4d30-4530-8cfa-2083c681c4aa",
   "metadata": {},
   "outputs": [
    {
     "data": {
      "image/png": "[encoded data removed]",
      "text/plain": [
       "<Figure size 800x500 with 1 Axes>"
      ]
     },
     "metadata": {},
     "output_type": "display_data"
    }
   ],
   "source": [
    "#Plot of Loss, Val_Loss, Accuracy and Val_Accuracy, with loss and val_loss normalized by max and min\n",
    "hist = pd.DataFrame(history.history)#.plot(figsize=(8, 5))\n",
    "hist['loss'] = (hist['loss'] - hist['loss'].min()) / (hist['loss'].max() - hist['loss'].min())\n",
    "hist['val_loss'] = (hist['val_loss'] - hist['val_loss'].min()) / (hist['val_loss'].max() - hist['val_loss'].min())\n",
    "hist.plot(figsize=(8,5))\n",
    "plt.grid(True)\n",
    "plt.gca().set_ylim(0, 1)\n",
    " \n",
    "plt.show()"
   ]
  },
  {
   "cell_type": "code",
   "execution_count": null,
   "id": "8a168d38-0070-4880-b207-46dd1c8f0ae0",
   "metadata": {},
   "outputs": [],
   "source": []
  }
 ],
 "metadata": {
  "kernelspec": {
   "display_name": "Python 3 (ipykernel)",
   "language": "python",
   "name": "python3"
  },
  "language_info": {
   "codemirror_mode": {
    "name": "ipython",
    "version": 3
   },
   "file_extension": ".py",
   "mimetype": "text/x-python",
   "name": "python",
   "nbconvert_exporter": "python",
   "pygments_lexer": "ipython3",
   "version": "3.10.0"
  }
 },
 "nbformat": 4,
 "nbformat_minor": 5
}
